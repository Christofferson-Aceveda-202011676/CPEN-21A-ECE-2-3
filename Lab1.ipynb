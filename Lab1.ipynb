{
  "nbformat": 4,
  "nbformat_minor": 0,
  "metadata": {
    "colab": {
      "name": "Lab1.ipynb",
      "provenance": [],
      "authorship_tag": "ABX9TyN1+jq6IelP5SGSEoINBozd",
      "include_colab_link": true
    },
    "kernelspec": {
      "name": "python3",
      "display_name": "Python 3"
    },
    "language_info": {
      "name": "python"
    }
  },
  "cells": [
    {
      "cell_type": "markdown",
      "metadata": {
        "id": "view-in-github",
        "colab_type": "text"
      },
      "source": [
        "<a href=\"https://colab.research.google.com/github/Christofferson-Aceveda-202011676/CPEN-21A-ECE-2-3/blob/main/Lab1.ipynb\" target=\"_parent\"><img src=\"https://colab.research.google.com/assets/colab-badge.svg\" alt=\"Open In Colab\"/></a>"
      ]
    },
    {
      "cell_type": "markdown",
      "metadata": {
        "id": "WnoG5i1Fm8SK"
      },
      "source": [
        "#Laboratory 1"
      ]
    },
    {
      "cell_type": "code",
      "metadata": {
        "colab": {
          "base_uri": "https://localhost:8080/"
        },
        "id": "Lt-8DzTYnHjp",
        "outputId": "8bed7ba4-d05f-416d-ae41-eb4b573eeb7e"
      },
      "source": [
        "print(\"Welcome to Python Programming\")\n",
        "\n",
        "def my_info ():\n",
        "    name = \"Christofferson R. Aceveda\"\n",
        "    age = 19\n",
        "    address = \"Dasmarinas, Cavite - Paliparan 3\"\n",
        "    print(\"Name: {}\\nAge: {}\\nAddress: {}\". format(name, age, address))\n",
        "\n",
        "my_info()"
      ],
      "execution_count": 6,
      "outputs": [
        {
          "output_type": "stream",
          "name": "stdout",
          "text": [
            "Welcome to Python Programming\n",
            "Name: Christofferson R. Aceveda\n",
            "Age: 19\n",
            "Address: Dasmarinas, Cavite - Paliparan 3\n"
          ]
        }
      ]
    }
  ]
}