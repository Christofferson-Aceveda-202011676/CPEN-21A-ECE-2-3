{
  "nbformat": 4,
  "nbformat_minor": 0,
  "metadata": {
    "colab": {
      "name": "Control Structure.ipynb",
      "provenance": [],
      "authorship_tag": "ABX9TyN5UCjhhAsyHjnsLLBbEAp5",
      "include_colab_link": true
    },
    "kernelspec": {
      "name": "python3",
      "display_name": "Python 3"
    },
    "language_info": {
      "name": "python"
    }
  },
  "cells": [
    {
      "cell_type": "markdown",
      "metadata": {
        "id": "view-in-github",
        "colab_type": "text"
      },
      "source": [
        "<a href=\"https://colab.research.google.com/github/Christofferson-Aceveda-202011676/CPEN-21A-ECE-2-3/blob/main/Control_Structure.ipynb\" target=\"_parent\"><img src=\"https://colab.research.google.com/assets/colab-badge.svg\" alt=\"Open In Colab\"/></a>"
      ]
    },
    {
      "cell_type": "markdown",
      "metadata": {
        "id": "O5PRNACUyuIf"
      },
      "source": [
        "##If Statement\n"
      ]
    },
    {
      "cell_type": "code",
      "metadata": {
        "colab": {
          "base_uri": "https://localhost:8080/"
        },
        "id": "Y1v704pHy4BH",
        "outputId": "bcbbc258-72b6-477f-adf0-81524e6f638b"
      },
      "source": [
        "a = 12\n",
        "b = 100\n",
        "if a<b:\n",
        " print(\"a is less than b\") "
      ],
      "execution_count": 1,
      "outputs": [
        {
          "output_type": "stream",
          "name": "stdout",
          "text": [
            "a is less than b\n"
          ]
        }
      ]
    },
    {
      "cell_type": "markdown",
      "metadata": {
        "id": "d_LhMa9jzoUH"
      },
      "source": [
        "##Elif Statement"
      ]
    },
    {
      "cell_type": "code",
      "metadata": {
        "colab": {
          "base_uri": "https://localhost:8080/"
        },
        "id": "IL1MOPzuzrYO",
        "outputId": "162fd111-1a97-499d-b2e0-2cdb002b8631"
      },
      "source": [
        "a = 30\n",
        "b = 15\n",
        "if a<b:\n",
        "  print(\"a is less than b\")\n",
        "elif a>b:\n",
        "  print(\"a is greater than b\")"
      ],
      "execution_count": 2,
      "outputs": [
        {
          "output_type": "stream",
          "name": "stdout",
          "text": [
            "a is greater than b\n"
          ]
        }
      ]
    },
    {
      "cell_type": "markdown",
      "metadata": {
        "id": "i1I4B5CE0DFI"
      },
      "source": [
        "##Else Statements"
      ]
    },
    {
      "cell_type": "code",
      "metadata": {
        "colab": {
          "base_uri": "https://localhost:8080/"
        },
        "id": "HGtYHRlV0FOr",
        "outputId": "bc59d569-b5b9-4bbf-8186-80b6800f60e4"
      },
      "source": [
        "a = 30\n",
        "b = 15\n",
        "if a<b:\n",
        "  print(\"a is less than b\")\n",
        "elif a>b:\n",
        "  print(\"a is greater than b\")\n",
        "else:\n",
        "  print(\"a is equal to b\")"
      ],
      "execution_count": 4,
      "outputs": [
        {
          "output_type": "stream",
          "name": "stdout",
          "text": [
            "a is greater than b\n"
          ]
        }
      ]
    },
    {
      "cell_type": "code",
      "metadata": {
        "colab": {
          "base_uri": "https://localhost:8080/"
        },
        "id": "5fotN8OF0zW6",
        "outputId": "f8023bb4-5f90-41e3-bfae-63f5c451c7c1"
      },
      "source": [
        "a = 30\n",
        "b = 30\n",
        "if a<b:\n",
        "  print(\"a is less than b\")\n",
        "elif a>b:\n",
        "  print(\"a is greater than b\")\n",
        "else:\n",
        "  print(\"a is equal to b\")"
      ],
      "execution_count": 5,
      "outputs": [
        {
          "output_type": "stream",
          "name": "stdout",
          "text": [
            "a is equal to b\n"
          ]
        }
      ]
    },
    {
      "cell_type": "markdown",
      "metadata": {
        "id": "P_va_Q9t07-_"
      },
      "source": [
        "##Short Hand if Statement"
      ]
    },
    {
      "cell_type": "code",
      "metadata": {
        "colab": {
          "base_uri": "https://localhost:8080/"
        },
        "id": "apXWrbNu0_JU",
        "outputId": "a32f426d-c004-4a5b-d824-9f30fdd90f73"
      },
      "source": [
        "a = 75\n",
        "b = 32\n",
        "\n",
        "if a>b: print(\"a is greater than b\")"
      ],
      "execution_count": 6,
      "outputs": [
        {
          "output_type": "stream",
          "name": "stdout",
          "text": [
            "a is greater than b\n"
          ]
        }
      ]
    },
    {
      "cell_type": "markdown",
      "metadata": {
        "id": "OWiFCUoE1NI_"
      },
      "source": [
        "##Short hand if.. Else Statement"
      ]
    },
    {
      "cell_type": "code",
      "metadata": {
        "colab": {
          "base_uri": "https://localhost:8080/"
        },
        "id": "PMQjs2oG1Sab",
        "outputId": "ccec6669-9052-4fa0-f9ca-ef8a0184e043"
      },
      "source": [
        "print(\"a is greater than b\")if a>b else print(\"b is greater than a\")"
      ],
      "execution_count": 11,
      "outputs": [
        {
          "output_type": "stream",
          "name": "stdout",
          "text": [
            "a is greater than b\n"
          ]
        }
      ]
    },
    {
      "cell_type": "markdown",
      "metadata": {
        "id": "YwBWHn_C2Ikw"
      },
      "source": [
        "##And logic condition"
      ]
    },
    {
      "cell_type": "code",
      "metadata": {
        "colab": {
          "base_uri": "https://localhost:8080/"
        },
        "id": "2KWpKWNe2oUG",
        "outputId": "306763e9-06a7-4651-8036-d668bcd0a36f"
      },
      "source": [
        "a = 200\n",
        "b = 33\n",
        "c = 500\n",
        "if a>b and c>a:\n",
        "  print(\"Both conditions are true\")\n",
        "else:\n",
        "  print(\"Either of the two conditions is True\")"
      ],
      "execution_count": 13,
      "outputs": [
        {
          "output_type": "stream",
          "name": "stdout",
          "text": [
            "Both conditions are true\n"
          ]
        }
      ]
    },
    {
      "cell_type": "markdown",
      "metadata": {
        "id": "eJdmpFmt2RTo"
      },
      "source": [
        "##Or logic conditions"
      ]
    },
    {
      "cell_type": "code",
      "metadata": {
        "colab": {
          "base_uri": "https://localhost:8080/"
        },
        "id": "51v6Cvkm3G2U",
        "outputId": "04967ec0-394f-47bd-f4f9-a0959bbcb545"
      },
      "source": [
        "if a<b or c>a:\n",
        "  print(\"True\")\n",
        "else:\n",
        "  print(\"False\")"
      ],
      "execution_count": 16,
      "outputs": [
        {
          "output_type": "stream",
          "name": "stdout",
          "text": [
            "True\n"
          ]
        }
      ]
    },
    {
      "cell_type": "markdown",
      "metadata": {
        "id": "jH0zdvK84N7K"
      },
      "source": [
        "##Nested if"
      ]
    },
    {
      "cell_type": "code",
      "metadata": {
        "colab": {
          "base_uri": "https://localhost:8080/"
        },
        "id": "nDOhReCk4Rcg",
        "outputId": "b4d4cbad-01a2-404b-dcbf-9ceb022069d9"
      },
      "source": [
        "x = 41\n",
        "if x>10:\n",
        "  print(\"Above 10\")\n",
        "  if x>20:\n",
        "    print(\"and above 20!\")\n",
        "    if x>30:\n",
        "      print(\"and above 30\")\n",
        "    else:\n",
        "      print(\"not above 30\")\n",
        "  else: \n",
        "    print(\"not above 20\")\n",
        "else:\n",
        "  print(\"below 10\")"
      ],
      "execution_count": 22,
      "outputs": [
        {
          "output_type": "stream",
          "name": "stdout",
          "text": [
            "Above 10\n",
            "and above 20!\n",
            "and above 30\n"
          ]
        }
      ]
    },
    {
      "cell_type": "markdown",
      "metadata": {
        "id": "zKRgbojE7jGh"
      },
      "source": [
        "##Example 1"
      ]
    },
    {
      "cell_type": "code",
      "metadata": {
        "colab": {
          "base_uri": "https://localhost:8080/"
        },
        "id": "PBti-TJw7lXq",
        "outputId": "61d181ce-9e35-451b-dc65-e45ce14bb74f"
      },
      "source": [
        "age = 18\n",
        "if age>=18:\n",
        "  print(\"You are qualified to vote\")\n",
        "else:\n",
        "  print(\"You are not qualified to vote\")"
      ],
      "execution_count": 23,
      "outputs": [
        {
          "output_type": "stream",
          "name": "stdout",
          "text": [
            "You are qualified to vote\n"
          ]
        }
      ]
    },
    {
      "cell_type": "code",
      "metadata": {
        "colab": {
          "base_uri": "https://localhost:8080/"
        },
        "id": "cw45isnB8BAQ",
        "outputId": "42b9196e-8920-4952-a874-a80dc3a59e88"
      },
      "source": [
        "age = int(input(\"Enter your age.\"))   #Input method\n",
        "if age>=18:\n",
        "  print(\"You are qualified to vote\")\n",
        "else:\n",
        "  print(\"You are not qualified to vote\")"
      ],
      "execution_count": 25,
      "outputs": [
        {
          "output_type": "stream",
          "name": "stdout",
          "text": [
            "Enter your age.22\n",
            "You are qualified to vote\n"
          ]
        }
      ]
    },
    {
      "cell_type": "markdown",
      "metadata": {
        "id": "UpvjAIzW8R7x"
      },
      "source": [
        "##Example 2"
      ]
    },
    {
      "cell_type": "code",
      "metadata": {
        "colab": {
          "base_uri": "https://localhost:8080/"
        },
        "id": "Fy7RFGXg8UW5",
        "outputId": "e6b99a71-3b52-4bd8-ccee-0855a7c4193a"
      },
      "source": [
        "num = int(input(\"Enter the Number:\"))\n",
        "if num==0:\n",
        "  print(\"Zero\")\n",
        "elif num>0:\n",
        "  print(\"Positive\")\n",
        "else:\n",
        "  print(\"Negative\")"
      ],
      "execution_count": 32,
      "outputs": [
        {
          "output_type": "stream",
          "name": "stdout",
          "text": [
            "Enter the Number:9\n",
            "Positive\n"
          ]
        }
      ]
    },
    {
      "cell_type": "code",
      "metadata": {
        "colab": {
          "base_uri": "https://localhost:8080/"
        },
        "id": "iWB67B1w-3Dz",
        "outputId": "95c688a3-0d82-4189-d36b-d6da67f37729"
      },
      "source": [
        "num = int(input(\"Enter the Number:\"))\n",
        "if num==0:\n",
        "  print(\"Zero\")\n",
        "elif num>0:\n",
        "  print(\"Positive\")\n",
        "else:\n",
        "  print(\"Negative\")"
      ],
      "execution_count": 33,
      "outputs": [
        {
          "output_type": "stream",
          "name": "stdout",
          "text": [
            "Enter the Number:-1\n",
            "Negative\n"
          ]
        }
      ]
    },
    {
      "cell_type": "code",
      "metadata": {
        "colab": {
          "base_uri": "https://localhost:8080/"
        },
        "id": "7NcXXqSC-6sH",
        "outputId": "f7b05030-cbe1-4abf-846f-dbb0f22316f0"
      },
      "source": [
        "num = int(input(\"Enter the Number:\"))\n",
        "if num==0:\n",
        "  print(\"Zero\")\n",
        "elif num>0:\n",
        "  print(\"Positive\")\n",
        "else:\n",
        "  print(\"Negative\")"
      ],
      "execution_count": 34,
      "outputs": [
        {
          "output_type": "stream",
          "name": "stdout",
          "text": [
            "Enter the Number:0\n",
            "Zero\n"
          ]
        }
      ]
    },
    {
      "cell_type": "markdown",
      "metadata": {
        "id": "Y1hJicer8cRh"
      },
      "source": [
        "##Example 3"
      ]
    },
    {
      "cell_type": "code",
      "metadata": {
        "colab": {
          "base_uri": "https://localhost:8080/"
        },
        "id": "F0Xy2_1r8dza",
        "outputId": "54a58f7f-6114-4a3d-9e77-c82ed9d741a1"
      },
      "source": [
        "#Write a Python program that determines if the grades are:\n",
        "# grade>=75 Passed\n",
        "# grade==74\"Remedial\"\n",
        "# grade<74 \"Failed\"\n",
        "\n",
        "grade = float(input(\"Enter your grade:\"))\n",
        "if grade>= 75:\n",
        "  print(\"You Passed\")\n",
        "elif grade>74 and grade<75:\n",
        "  print(\"Remedial\")\n",
        "else:\n",
        "  print(\"You Failed\")"
      ],
      "execution_count": 31,
      "outputs": [
        {
          "output_type": "stream",
          "name": "stdout",
          "text": [
            "Enter your grade:74.9\n",
            "Remedial\n"
          ]
        }
      ]
    },
    {
      "cell_type": "code",
      "metadata": {
        "colab": {
          "base_uri": "https://localhost:8080/"
        },
        "id": "Wco0yawO_APh",
        "outputId": "d6722875-2ec9-41ef-f09b-832ccd1df734"
      },
      "source": [
        "grade = float(input(\"Enter your grade:\"))\n",
        "if grade>= 75:\n",
        "  print(\"You Passed\")\n",
        "elif grade==74:\n",
        "  print(\"Remedial\")\n",
        "else:\n",
        "  print(\"You Failed\")"
      ],
      "execution_count": 35,
      "outputs": [
        {
          "output_type": "stream",
          "name": "stdout",
          "text": [
            "Enter your grade:74.9\n",
            "You Failed\n"
          ]
        }
      ]
    }
  ]
}