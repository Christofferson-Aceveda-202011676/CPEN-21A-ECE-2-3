{
  "nbformat": 4,
  "nbformat_minor": 0,
  "metadata": {
    "colab": {
      "name": "Midterm Exam.ipynb",
      "provenance": [],
      "authorship_tag": "ABX9TyNkCFEkfgDKKE91BfIGYE8a",
      "include_colab_link": true
    },
    "kernelspec": {
      "name": "python3",
      "display_name": "Python 3"
    },
    "language_info": {
      "name": "python"
    }
  },
  "cells": [
    {
      "cell_type": "markdown",
      "metadata": {
        "id": "view-in-github",
        "colab_type": "text"
      },
      "source": [
        "<a href=\"https://colab.research.google.com/github/Christofferson-Aceveda-202011676/CPEN-21A-ECE-2-3/blob/main/Midterm_Exam.ipynb\" target=\"_parent\"><img src=\"https://colab.research.google.com/assets/colab-badge.svg\" alt=\"Open In Colab\"/></a>"
      ]
    },
    {
      "cell_type": "markdown",
      "metadata": {
        "id": "QrGBbzxCsYZ-"
      },
      "source": [
        "#Midterm Exam"
      ]
    },
    {
      "cell_type": "markdown",
      "metadata": {
        "id": "rP1oqIVGvNYm"
      },
      "source": [
        "##Problem Statement 1"
      ]
    },
    {
      "cell_type": "code",
      "metadata": {
        "colab": {
          "base_uri": "https://localhost:8080/"
        },
        "id": "WnFIgkc2scDq",
        "outputId": "b92d70f7-e9e3-4292-b643-aa51565dcea2"
      },
      "source": [
        "a = \"Christofferson R. Aceveda\"\n",
        "b, c, d, g = 202011679, 19, \"June 10 2002\", 1.5\n",
        "e = \"Blk, 156 Lot 35, Phase 1 Mabuhay City, Paliparan 3, Dasmariñas, Cavite\"\n",
        "f = \"Bachelor of Science in Electrical and Computer Engineering\"\n",
        "print(a)\n",
        "print(b)\n",
        "print(c)\n",
        "print(d)\n",
        "print(e)\n",
        "print(f)\n",
        "print(g)"
      ],
      "execution_count": 81,
      "outputs": [
        {
          "output_type": "stream",
          "name": "stdout",
          "text": [
            "Christofferson R. Aceveda\n",
            "202011679\n",
            "19\n",
            "June 10 2002\n",
            "Blk, 156 Lot 35, Phase 1 Mabuhay City, Paliparan 3, Dasmariñas, Cavite\n",
            "Bachelor of Science in Electrical and Computer Engineering\n",
            "1.5\n"
          ]
        }
      ]
    },
    {
      "cell_type": "markdown",
      "metadata": {
        "id": "Q28ceZszvbSP"
      },
      "source": [
        "##Problem Statement 2"
      ]
    },
    {
      "cell_type": "code",
      "metadata": {
        "colab": {
          "base_uri": "https://localhost:8080/"
        },
        "id": "0cFcZ8Qzve-R",
        "outputId": "17cd263d-c247-4415-82da-a04086c8fb0b"
      },
      "source": [
        "n = 4\n",
        "answ = \"Y\"\n",
        "\n",
        "print((2<n)and(n<6))  #a\n",
        "print((2<n)or(n==6))  #b\n",
        "print(not(2<n)or(n==6)) #c\n",
        "print(not(n<6)) #d\n",
        "print((answ==\"Y\")or(answ==\"y\")) #e\n",
        "print((answ==\"Y\")and(answ==\"y\"))  #f\n",
        "print(not(answ==\"y\")) #g\n",
        "print(((2<n)and(n==5+1))or(answ==\"No\")) #h\n",
        "print(((n==2)and(n==7))or(answ==\"Y\"))   #i\n",
        "print((n==2)and((n==7)or(answ==\"Y\")))   #j"
      ],
      "execution_count": 60,
      "outputs": [
        {
          "output_type": "stream",
          "name": "stdout",
          "text": [
            "True\n",
            "True\n",
            "False\n",
            "False\n",
            "True\n",
            "False\n",
            "True\n",
            "False\n",
            "True\n",
            "False\n"
          ]
        }
      ]
    },
    {
      "cell_type": "markdown",
      "metadata": {
        "id": "KYMaeHqw2HLV"
      },
      "source": [
        "##Probelem Statement 3"
      ]
    },
    {
      "cell_type": "code",
      "metadata": {
        "colab": {
          "base_uri": "https://localhost:8080/"
        },
        "id": "AVa9Y-EH2LSE",
        "outputId": "845400c9-97c9-4ed0-c05d-426ecd9ff2aa"
      },
      "source": [
        "x, y, w, z=2, -3, 7, -10\n",
        "\n",
        "print(x/y)  #a\n",
        "print(w/y/x)  #b\n",
        "print(z/y%x)  #c\n",
        "print(x%-y*w) #d\n",
        "print(x%y)  #e\n",
        "print(z%w-y/x*5+5)  #f\n",
        "print(9-x%(2+y))  #g\n",
        "print(z//w) #h\n",
        "print((2+y)**2) #i\n",
        "print(w/x*2)  #j"
      ],
      "execution_count": 74,
      "outputs": [
        {
          "output_type": "stream",
          "name": "stdout",
          "text": [
            "-0.6666666666666666\n",
            "-1.1666666666666667\n",
            "1.3333333333333335\n",
            "14\n",
            "-1\n",
            "16.5\n",
            "9\n",
            "-2\n",
            "1\n",
            "7.0\n"
          ]
        }
      ]
    }
  ]
}