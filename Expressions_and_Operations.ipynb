{
  "nbformat": 4,
  "nbformat_minor": 0,
  "metadata": {
    "colab": {
      "name": "Expressions_and_Operations.ipynb",
      "provenance": [],
      "authorship_tag": "ABX9TyOzpi2uZCNPCBQibmsaSaSD",
      "include_colab_link": true
    },
    "kernelspec": {
      "name": "python3",
      "display_name": "Python 3"
    },
    "language_info": {
      "name": "python"
    }
  },
  "cells": [
    {
      "cell_type": "markdown",
      "metadata": {
        "id": "view-in-github",
        "colab_type": "text"
      },
      "source": [
        "<a href=\"https://colab.research.google.com/github/Christofferson-Aceveda-202011676/CPEN-21A-ECE-2-3/blob/main/Expressions_and_Operations.ipynb\" target=\"_parent\"><img src=\"https://colab.research.google.com/assets/colab-badge.svg\" alt=\"Open In Colab\"/></a>"
      ]
    },
    {
      "cell_type": "markdown",
      "metadata": {
        "id": "mJon3XEK03iw"
      },
      "source": [
        "##Boolean Operator"
      ]
    },
    {
      "cell_type": "code",
      "metadata": {
        "colab": {
          "base_uri": "https://localhost:8080/"
        },
        "id": "sE9aaejO061a",
        "outputId": "59ea2077-48ea-4892-c499-51954df24315"
      },
      "source": [
        "x=1\n",
        "y=2\n",
        "\n",
        "y"
      ],
      "execution_count": 1,
      "outputs": [
        {
          "output_type": "execute_result",
          "data": {
            "text/plain": [
              "2"
            ]
          },
          "metadata": {},
          "execution_count": 1
        }
      ]
    },
    {
      "cell_type": "code",
      "metadata": {
        "colab": {
          "base_uri": "https://localhost:8080/"
        },
        "id": "B6iDpgLE1Lmt",
        "outputId": "1f30ace9-697e-4644-b0d3-803c2c9069a3"
      },
      "source": [
        "x=1\n",
        "y=2\n",
        "\n",
        "print(y)"
      ],
      "execution_count": 2,
      "outputs": [
        {
          "output_type": "stream",
          "name": "stdout",
          "text": [
            "2\n"
          ]
        }
      ]
    },
    {
      "cell_type": "code",
      "metadata": {
        "colab": {
          "base_uri": "https://localhost:8080/"
        },
        "id": "OQzKmzS21QKM",
        "outputId": "d6a50621-c30d-46ae-c57d-11b115b00c11"
      },
      "source": [
        "x=1\n",
        "y=2\n",
        "\n",
        "print(x>y)\n",
        "print(10>11)\n",
        "print(10==10)\n",
        "print(10!=11)\n"
      ],
      "execution_count": 3,
      "outputs": [
        {
          "output_type": "stream",
          "name": "stdout",
          "text": [
            "False\n",
            "False\n",
            "True\n",
            "True\n"
          ]
        }
      ]
    },
    {
      "cell_type": "code",
      "metadata": {
        "colab": {
          "base_uri": "https://localhost:8080/"
        },
        "id": "qcUT4qDo1cKe",
        "outputId": "c9bd07ee-28f0-483e-ea76-aab509fffea8"
      },
      "source": [
        "#using bool() function\n",
        "print(bool(\"Hello\"))\n",
        "print(bool(15))\n",
        "\n",
        "print(bool(True))\n",
        "print(bool(False))\n",
        "print(bool(None))\n",
        "print(bool(0))\n",
        "print(bool([]))"
      ],
      "execution_count": 4,
      "outputs": [
        {
          "output_type": "stream",
          "name": "stdout",
          "text": [
            "True\n",
            "True\n",
            "True\n",
            "False\n",
            "False\n",
            "False\n",
            "False\n"
          ]
        }
      ]
    },
    {
      "cell_type": "markdown",
      "metadata": {
        "id": "HD6S3iCY15ns"
      },
      "source": [
        "###Functions can return Boolean"
      ]
    },
    {
      "cell_type": "code",
      "metadata": {
        "colab": {
          "base_uri": "https://localhost:8080/"
        },
        "id": "rF8FElG91-Zr",
        "outputId": "a60c137f-cb1b-451f-dcd5-385b397f4f08"
      },
      "source": [
        "def myFunction(): return True\n",
        "print(myFunction())"
      ],
      "execution_count": 5,
      "outputs": [
        {
          "output_type": "stream",
          "name": "stdout",
          "text": [
            "True\n"
          ]
        }
      ]
    },
    {
      "cell_type": "code",
      "metadata": {
        "colab": {
          "base_uri": "https://localhost:8080/"
        },
        "id": "DogW53yu2HOl",
        "outputId": "a256fb42-e81e-4974-cbad-518b15ff293b"
      },
      "source": [
        "def myFunction(): return False\n",
        "print(myFunction())"
      ],
      "execution_count": 6,
      "outputs": [
        {
          "output_type": "stream",
          "name": "stdout",
          "text": [
            "False\n"
          ]
        }
      ]
    },
    {
      "cell_type": "code",
      "metadata": {
        "colab": {
          "base_uri": "https://localhost:8080/"
        },
        "id": "bw-Z7ohi2Ow6",
        "outputId": "708c2794-75a1-4c88-9a4a-85f02c94b9ba"
      },
      "source": [
        "def yourFunction(): return True\n",
        "if yourFunction():\n",
        "  print(\"Yes!\")\n",
        "else:\n",
        "    print(\"No!\")"
      ],
      "execution_count": 8,
      "outputs": [
        {
          "output_type": "stream",
          "name": "stdout",
          "text": [
            "Yes!\n"
          ]
        }
      ]
    },
    {
      "cell_type": "code",
      "metadata": {
        "colab": {
          "base_uri": "https://localhost:8080/"
        },
        "id": "8538V_cR2g6w",
        "outputId": "82353136-b6f2-4529-8ad2-100f8c77a1dc"
      },
      "source": [
        "def yourFunction(): return False\n",
        "if yourFunction():\n",
        "  print(\"Yes!\")\n",
        "else:\n",
        "  print(\"No!\")"
      ],
      "execution_count": 9,
      "outputs": [
        {
          "output_type": "stream",
          "name": "stdout",
          "text": [
            "No!\n"
          ]
        }
      ]
    },
    {
      "cell_type": "markdown",
      "metadata": {
        "id": "cNQstpdl2w8u"
      },
      "source": [
        "###Relational Operator"
      ]
    },
    {
      "cell_type": "code",
      "metadata": {
        "colab": {
          "base_uri": "https://localhost:8080/"
        },
        "id": "GRLBHW6j20uE",
        "outputId": "f33372f3-61d6-411e-9c55-c251bd81db65"
      },
      "source": [
        "print(10>9)\n",
        "\n",
        "a=6\n",
        "b=7\n",
        "print(a==b)\n",
        "print(a!=a)"
      ],
      "execution_count": 10,
      "outputs": [
        {
          "output_type": "stream",
          "name": "stdout",
          "text": [
            "True\n",
            "False\n",
            "False\n"
          ]
        }
      ]
    },
    {
      "cell_type": "markdown",
      "metadata": {
        "id": "hh87f9xN2-Td"
      },
      "source": [
        "##Arithmetic Operators"
      ]
    },
    {
      "cell_type": "code",
      "metadata": {
        "colab": {
          "base_uri": "https://localhost:8080/"
        },
        "id": "GOX2v_FY3CB3",
        "outputId": "8f7853c0-aa4c-412d-d77f-028fca2f6aba"
      },
      "source": [
        "print(10+5)\n",
        "print(10-5)\n",
        "print(10*5)\n",
        "print(10/5)\n",
        "print(10%5) #modulo division, remainder\n",
        "print(10//5) #floor division\n",
        "print(10//3) #floor division\n",
        "print(10%3) #3 x 3 = 9 + 1"
      ],
      "execution_count": 11,
      "outputs": [
        {
          "output_type": "stream",
          "name": "stdout",
          "text": [
            "15\n",
            "5\n",
            "50\n",
            "2.0\n",
            "0\n",
            "2\n",
            "3\n",
            "1\n"
          ]
        }
      ]
    },
    {
      "cell_type": "markdown",
      "metadata": {
        "id": "ArvfaDOd3egk"
      },
      "source": [
        "##Bitwise Operators"
      ]
    },
    {
      "cell_type": "code",
      "metadata": {
        "colab": {
          "base_uri": "https://localhost:8080/"
        },
        "id": "MOt7gicJ3hBr",
        "outputId": "48c82f1e-2ee5-4bd4-ae2c-fe6e44eedea7"
      },
      "source": [
        "a=60 # 0011 1100\n",
        "b=13 # 0000 1101\n",
        "\n",
        "print(a&b)\n",
        "print(a|b)\n",
        "print(a^b)\n",
        "print(~a)\n",
        "print(a<<1) # 0111 1000\n",
        "print(a<<2) # 1111 0000\n",
        "print(b>>1) # 1 0000 0110\n",
        "print(b>>2) # 0000  0011        carry flag bit = 01"
      ],
      "execution_count": 12,
      "outputs": [
        {
          "output_type": "stream",
          "name": "stdout",
          "text": [
            "12\n",
            "61\n",
            "49\n",
            "-61\n",
            "120\n",
            "240\n",
            "6\n",
            "3\n"
          ]
        }
      ]
    },
    {
      "cell_type": "markdown",
      "metadata": {
        "id": "lZrIVCO04Hhc"
      },
      "source": [
        "##Assignment Operators"
      ]
    },
    {
      "cell_type": "code",
      "metadata": {
        "colab": {
          "base_uri": "https://localhost:8080/"
        },
        "id": "QqvK1vsL4K6y",
        "outputId": "fdaba74c-bf63-4e70-962e-e88ff0e1485c"
      },
      "source": [
        "a+=3 # Same As a = a + 3\n",
        "     # Same As a = 60 + 3, a = 63\n",
        "\n",
        "print(a)"
      ],
      "execution_count": 19,
      "outputs": [
        {
          "output_type": "stream",
          "name": "stdout",
          "text": [
            "81\n"
          ]
        }
      ]
    },
    {
      "cell_type": "markdown",
      "metadata": {
        "id": "PyKPLOT24z8c"
      },
      "source": [
        "##Logical Operators"
      ]
    },
    {
      "cell_type": "code",
      "metadata": {
        "colab": {
          "base_uri": "https://localhost:8080/"
        },
        "id": "FVPGPfqC42iK",
        "outputId": "39091ddd-448d-4a31-ac76-19bbfdd8b7da"
      },
      "source": [
        "#and Logical operator\n",
        "\n",
        "a = True\n",
        "b = False\n",
        "\n",
        "print(a and b)\n",
        "print(not(a and b))\n",
        "print(a or b)\n",
        "print(not(a or b))"
      ],
      "execution_count": 21,
      "outputs": [
        {
          "output_type": "stream",
          "name": "stdout",
          "text": [
            "False\n",
            "True\n",
            "True\n",
            "False\n"
          ]
        }
      ]
    },
    {
      "cell_type": "markdown",
      "metadata": {
        "id": "29V5BgQf5gGN"
      },
      "source": [
        "##Identity Operators"
      ]
    },
    {
      "cell_type": "code",
      "metadata": {
        "colab": {
          "base_uri": "https://localhost:8080/"
        },
        "id": "2fwP3Zmw5iwQ",
        "outputId": "75c6fde6-8d1c-4834-e045-4e01cd94af51"
      },
      "source": [
        "print(a is b)\n",
        "print(a is not b)"
      ],
      "execution_count": 23,
      "outputs": [
        {
          "output_type": "stream",
          "name": "stdout",
          "text": [
            "False\n",
            "True\n"
          ]
        }
      ]
    }
  ]
}