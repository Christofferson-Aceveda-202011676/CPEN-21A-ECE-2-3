{
  "nbformat": 4,
  "nbformat_minor": 0,
  "metadata": {
    "colab": {
      "name": "Final Exam.ipynb",
      "provenance": [],
      "authorship_tag": "ABX9TyMjsKCgDfvJu5iwhBbOVezI",
      "include_colab_link": true
    },
    "kernelspec": {
      "name": "python3",
      "display_name": "Python 3"
    },
    "language_info": {
      "name": "python"
    }
  },
  "cells": [
    {
      "cell_type": "markdown",
      "metadata": {
        "id": "view-in-github",
        "colab_type": "text"
      },
      "source": [
        "<a href=\"https://colab.research.google.com/github/Christofferson-Aceveda-202011676/CPEN-21A-ECE-2-3/blob/main/Final_Exam.ipynb\" target=\"_parent\"><img src=\"https://colab.research.google.com/assets/colab-badge.svg\" alt=\"Open In Colab\"/></a>"
      ]
    },
    {
      "cell_type": "markdown",
      "source": [
        "#Final Exam"
      ],
      "metadata": {
        "id": "NBObdatY4pNO"
      }
    },
    {
      "cell_type": "markdown",
      "source": [
        "##Problem }Statement 1\n"
      ],
      "metadata": {
        "id": "S-71WoaqqA8h"
      }
    },
    {
      "cell_type": "code",
      "source": [
        "#sum of 10 numbers less than 5 using FOR LOOP statement.\n",
        "numbers = (4,3,2,1,-1,-2,-3,-4,-5,-6)\n",
        "sum = 0\n",
        "for val in numbers:\n",
        "  sum = sum+val\n",
        "\n",
        "print(\"The sum is\", sum)"
      ],
      "metadata": {
        "colab": {
          "base_uri": "https://localhost:8080/"
        },
        "id": "AZHhGnwrWpPh",
        "outputId": "3ba15f00-540d-4ec2-9787-ef86a9cd0c97"
      },
      "execution_count": 11,
      "outputs": [
        {
          "output_type": "stream",
          "name": "stdout",
          "text": [
            "The sum is -11\n"
          ]
        }
      ]
    },
    {
      "cell_type": "markdown",
      "source": [
        "##Problem Statement 2"
      ],
      "metadata": {
        "id": "TZvGfmWklzWm"
      }
    },
    {
      "cell_type": "code",
      "source": [
        "\n",
        "\n",
        "n=0\n",
        "num1=0\n",
        "num5=0\n",
        "\n",
        "while n<5:\n",
        "  Num=float(input(\"Input a number: \"))\n",
        "  n+=1\n",
        "  if n==1:\n",
        "    num1=Num\n",
        "  elif n==5:\n",
        "    num1=Num\n",
        "print(\"The sum of the first and last number is:\", num1+num5)"
      ],
      "metadata": {
        "colab": {
          "base_uri": "https://localhost:8080/"
        },
        "id": "NmZyomwal2Xg",
        "outputId": "b1dc9f91-7d47-4853-bf03-24d16968ed8c"
      },
      "execution_count": 22,
      "outputs": [
        {
          "output_type": "stream",
          "name": "stdout",
          "text": [
            "Input a number: 1\n",
            "Input a number: 2\n",
            "Input a number: 3\n",
            "Input a number: 4\n",
            "Input a number: 5\n",
            "The sum of the first and last number is: 5.0\n"
          ]
        }
      ]
    },
    {
      "cell_type": "markdown",
      "source": [
        "##Problem Statement 3"
      ],
      "metadata": {
        "id": "gacQg0z2oAED"
      }
    },
    {
      "cell_type": "code",
      "source": [
        "#Create a Python program to calculate student grades. It accepts a numerical grade as input and it will display the character grade as output based on the given scale:\n",
        "Grade = float(input(\"Enter your Grade: \"))\n",
        "if Grade>=90 and Grade <=100:\n",
        "  print(\"Grade: A\")\n",
        "elif Grade>=80 and Grade<=89:\n",
        "  print(\"Grade: B\")\n",
        "elif Grade>=70 and Grade<+79:\n",
        "  print(\"Grade: C\")\n",
        "elif Grade>=60 and Grade<=69:\n",
        "  print(\"Grade: D\")\n",
        "elif Grade>=0 and Grade<60:\n",
        "  print(\"Grade: F\")\n"
      ],
      "metadata": {
        "colab": {
          "base_uri": "https://localhost:8080/"
        },
        "id": "NfTt8-CGoC-U",
        "outputId": "cac351e3-5fee-43ee-87c6-b2cce648b095"
      },
      "execution_count": 33,
      "outputs": [
        {
          "output_type": "stream",
          "name": "stdout",
          "text": [
            "Enter your Grade: 85.35\n",
            "Grade: B\n"
          ]
        }
      ]
    }
  ]
}